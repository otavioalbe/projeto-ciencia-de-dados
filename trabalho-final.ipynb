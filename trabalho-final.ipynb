{
 "cells": [
  {
   "cell_type": "markdown",
   "metadata": {},
   "source": [
    "# Trabalho Final - Coleta, Análise e Preparação de Dados\n",
    "\n",
    "## Grupo: Davi Kniest, João Antonio Hilgert Merck e Otávio De Carli Albuquerque\n",
    "\n",
    "### Descrição do Problema:\n",
    "Compreender quanto o nível de ensino do candidato influencia para se eleger nas eleições municipais do Rio Grande do Sul nos anos de 2012, 2016 e 2020;\n",
    "\n",
    "### Datasets escolhidos:\n",
    "Dados adquiridos a partir do Portal de Dados Oficial do TSE, onde buscamos filtrar por um contexto municipal das votações do Rio Grande do Sul nos anos de 2020, 2016 e 2012;\n",
    "\n",
    "ANO 2020\n",
    "- Resultados: https://dadosabertos.tse.jus.br/dataset/resultados-2020/resource/db0b6c75-dc82-48d8-b207-ba2b420ec58a\n",
    "- Consulta de candidatos: https://dadosabertos.tse.jus.br/dataset/candidatos-2020-subtemas/resource/8187b1aa-5026-4908-a15a-0bf777ee6701\n",
    "\n",
    "ANO 2016\n",
    "- Resultados: https://dadosabertos.tse.jus.br/dataset/resultados-2016/resource/ccd2564b-a576-4c17-a603-31e49f980667\n",
    "- Consulta de candidatos: https://dadosabertos.tse.jus.br/dataset/candidatos-2016/resource/8ecf472b-9caa-4755-9faa-b95bd7aef0d3\n",
    "\n",
    "ANO 2012\n",
    "- Resultados: https://dadosabertos.tse.jus.br/dataset/resultados-2012/resource/01f124d9-d4a0-4e96-9d1c-7be06e63adb2\n",
    "- Consulta de candidatos: https://dadosabertos.tse.jus.br/dataset/candidatos-2012/resource/900bf233-4f13-4e2a-b600-205e4f27986c"
   ]
  },
  {
   "cell_type": "markdown",
   "metadata": {},
   "source": []
  },
  {
   "cell_type": "code",
   "execution_count": null,
   "metadata": {},
   "outputs": [],
   "source": []
  }
 ],
 "metadata": {
  "kernelspec": {
   "display_name": "jupyter",
   "language": "python",
   "name": "python3"
  },
  "language_info": {
   "codemirror_mode": {
    "name": "ipython",
    "version": 3
   },
   "file_extension": ".py",
   "mimetype": "text/x-python",
   "name": "python",
   "nbconvert_exporter": "python",
   "pygments_lexer": "ipython3",
   "version": "3.9.0"
  }
 },
 "nbformat": 4,
 "nbformat_minor": 2
}
